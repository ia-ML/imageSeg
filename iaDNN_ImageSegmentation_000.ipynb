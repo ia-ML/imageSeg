{
  "nbformat": 4,
  "nbformat_minor": 0,
  "metadata": {
    "colab": {
      "provenance": [],
      "toc_visible": true,
      "authorship_tag": "ABX9TyPo86QHoghJQ/aApllyoDU6",
      "include_colab_link": true
    },
    "kernelspec": {
      "name": "python3",
      "display_name": "Python 3"
    },
    "language_info": {
      "name": "python"
    }
  },
  "cells": [
    {
      "cell_type": "markdown",
      "metadata": {
        "id": "view-in-github",
        "colab_type": "text"
      },
      "source": [
        "<a href=\"https://colab.research.google.com/github/ia-ML/imageSeg/blob/main/iaDNN_ImageSegmentation_000.ipynb\" target=\"_parent\"><img src=\"https://colab.research.google.com/assets/colab-badge.svg\" alt=\"Open In Colab\"/></a>"
      ]
    },
    {
      "cell_type": "code",
      "execution_count": null,
      "metadata": {
        "id": "dxh8WBlRMM77"
      },
      "outputs": [],
      "source": []
    },
    {
      "cell_type": "markdown",
      "source": [
        "# Image segmentation tutorials using deep learning\n",
        "\n",
        "**Note:** code and ideas are taken from the mentioned resources."
      ],
      "metadata": {
        "id": "MUzf8HD7MUOA"
      }
    },
    {
      "cell_type": "code",
      "source": [],
      "metadata": {
        "id": "Ir2DLCj7MlCg"
      },
      "execution_count": null,
      "outputs": []
    }
  ]
}